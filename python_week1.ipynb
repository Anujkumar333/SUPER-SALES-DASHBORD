{
  "cells": [
    {
      "cell_type": "markdown",
      "metadata": {
        "id": "view-in-github",
        "colab_type": "text"
      },
      "source": [
        "<a href=\"https://colab.research.google.com/github/Anujkumar333/SUPER-SALES-DASHBORD/blob/main/python_week1.ipynb\" target=\"_parent\"><img src=\"https://colab.research.google.com/assets/colab-badge.svg\" alt=\"Open In Colab\"/></a>"
      ]
    },
    {
      "cell_type": "code",
      "execution_count": null,
      "id": "113d3a5f",
      "metadata": {
        "id": "113d3a5f",
        "outputId": "b1e1ed01-e5d0-4ed7-af83-7008c97269cd"
      },
      "outputs": [
        {
          "name": "stdout",
          "output_type": "stream",
          "text": [
            "name: anuj kumar \n",
            "Email: anuj@gmail.com \n",
            "address: kanpur nager\n"
          ]
        }
      ],
      "source": [
        "#Ans1-\n",
        "\n",
        "name=\"anuj kumar\"\n",
        "\n",
        "Email=\"anuj@gmail.com\"\n",
        "\n",
        "address=\"kanpur nager\"\n",
        "\n",
        "print(\"name:\",name,\"\\nEmail:\",Email,\"\\naddress:\",address)"
      ]
    },
    {
      "cell_type": "code",
      "execution_count": null,
      "id": "50905544",
      "metadata": {
        "id": "50905544",
        "outputId": "ca92f797-cfd1-4aab-8591-4109c389af84"
      },
      "outputs": [
        {
          "name": "stdout",
          "output_type": "stream",
          "text": [
            "enter your nameabu\n",
            "hello abu\n"
          ]
        }
      ],
      "source": [
        "# Ans2\n",
        "name=str(input(\"enter your name\"))\n",
        "\n",
        "print(\"hello\",name)"
      ]
    },
    {
      "cell_type": "code",
      "execution_count": null,
      "id": "78107383",
      "metadata": {
        "id": "78107383",
        "outputId": "8ee031b0-8927-4c72-cf1c-b1f7ae260324"
      },
      "outputs": [
        {
          "name": "stdout",
          "output_type": "stream",
          "text": [
            "enter the radius of circle23\n",
            "area of cirle= 1661.06 cm sqr \n",
            "perimeter of circle 144.44 cm\n"
          ]
        }
      ],
      "source": [
        "#Ans3-\n",
        "R=float(input(\"enter the radius of circle\"))\n",
        "# R for radius of circle\n",
        "# A is the area of circle\n",
        "# P is the perimeter of circle\n",
        "A=3.14*R*R\n",
        "P=2*3.14*R\n",
        "print(\"area of cirle=\",A,\"cm sqr\",\"\\nperimeter of circle\",P,\"cm\")"
      ]
    },
    {
      "cell_type": "code",
      "execution_count": null,
      "id": "f7c54f88",
      "metadata": {
        "id": "f7c54f88",
        "outputId": "64bd4c6d-f0de-4584-a006-1b2222a2b889"
      },
      "outputs": [
        {
          "name": "stdout",
          "output_type": "stream",
          "text": [
            "enter the length of rectangle:12\n",
            "enter the length of rectangle:12\n",
            "area of the rectangle= 144.0 \n",
            "perimeter of rectangle= 48.0\n"
          ]
        }
      ],
      "source": [
        "#Ans4-\n",
        "\n",
        "length =float(input(\"enter the length of rectangle:\"))\n",
        "\n",
        "breadth=float(input(\"enter the length of rectangle:\"))\n",
        "\n",
        "area=length*breadth\n",
        "\n",
        "perimeter=2*(length+breadth)\n",
        "\n",
        "print(\"area of the rectangle=\",area,\"\\nperimeter of rectangle=\",perimeter)"
      ]
    },
    {
      "cell_type": "code",
      "execution_count": null,
      "id": "bed701a1",
      "metadata": {
        "id": "bed701a1",
        "outputId": "a2ec8a17-4ee8-431f-d513-6c7dd64338d3"
      },
      "outputs": [
        {
          "name": "stdout",
          "output_type": "stream",
          "text": [
            "enter the length of rectangle:4\n",
            "area of square= 16.0 \n",
            "perimeter of square= 16.0\n"
          ]
        }
      ],
      "source": [
        "#Ans5-\n",
        "side=float(input(\"enter the length of rectangle:\"))\n",
        "\n",
        "area=side*side\n",
        "\n",
        "perimeter=4*side\n",
        "\n",
        "print(\"area of square=\",area,\"\\nperimeter of square=\",perimeter)"
      ]
    },
    {
      "cell_type": "code",
      "execution_count": null,
      "id": "4b5fa5fc",
      "metadata": {
        "id": "4b5fa5fc",
        "outputId": "3d0d17ae-52af-43a8-df96-90165c11b805"
      },
      "outputs": [
        {
          "name": "stdout",
          "output_type": "stream",
          "text": [
            "/n enter the temperature in centigrade:12\n"
          ]
        },
        {
          "data": {
            "text/plain": [
              "53.6"
            ]
          },
          "execution_count": 7,
          "metadata": {},
          "output_type": "execute_result"
        }
      ],
      "source": [
        "#Ans6-\n",
        "Centigrade=float(input(\"/n enter the temperature in centigrade:\"))\n",
        "formula_Fahrenheit=(1.8 * Centigrade) + 32\n",
        "formula_Fahrenheit"
      ]
    },
    {
      "cell_type": "code",
      "execution_count": null,
      "id": "27c104d6",
      "metadata": {
        "id": "27c104d6",
        "outputId": "4437b6e3-420b-4437-bed0-9d4c3d80c2ef"
      },
      "outputs": [
        {
          "name": "stdout",
          "output_type": "stream",
          "text": [
            "addition= (10+6j) \n",
            "subtraction= (-2+2j) \n",
            "multiply= (16+32j)\n"
          ]
        }
      ],
      "source": [
        "#Ans7-\n",
        "a=4+4j\n",
        "b=6+2j\n",
        "add=a+b\n",
        "sub=a-b\n",
        "multi=a*b\n",
        "print(\"addition=\",add,\"\\nsubtraction=\",sub,\"\\nmultiply=\",multi)\n",
        "\n",
        ""
      ]
    },
    {
      "cell_type": "code",
      "execution_count": null,
      "id": "f76e16c5",
      "metadata": {
        "id": "f76e16c5",
        "outputId": "6ef359ef-1a1f-4c0e-9c43-3519bff82f7a"
      },
      "outputs": [
        {
          "name": "stdout",
          "output_type": "stream",
          "text": [
            "enter your salary2000\n",
            "salary= 2000.0 \n",
            "dearness= 800.0 \n",
            "house_rent= 400.0 \n",
            "gross_salary= 3200.0\n"
          ]
        }
      ],
      "source": [
        "#Ans8-\n",
        "salary=float(input(\"enter your salary\"))\n",
        "dearness=(40/100)*salary\n",
        "house_rent=(20/100)*salary\n",
        "\n",
        "gross_salary=dearness+house_rent+salary\n",
        "\n",
        "print(\"salary=\",salary,\"\\ndearness=\",dearness,\"\\nhouse_rent=\",house_rent,\"\\ngross_salary=\",gross_salary)"
      ]
    },
    {
      "cell_type": "code",
      "execution_count": null,
      "id": "f55d280a",
      "metadata": {
        "id": "f55d280a",
        "outputId": "12b36725-69a4-45bd-8737-928f972f8292"
      },
      "outputs": [
        {
          "name": "stdout",
          "output_type": "stream",
          "text": [
            "enter the integers number2\n",
            "3.0\n"
          ]
        }
      ],
      "source": [
        "#Ans9\n",
        "n=int(input(\"enter the integers number\"))\n",
        "sum = (n)*(n + 1)/ 2\n",
        "print(sum)"
      ]
    },
    {
      "cell_type": "code",
      "execution_count": null,
      "id": "c33b05bb",
      "metadata": {
        "id": "c33b05bb",
        "outputId": "67e68b22-00c8-48bb-e70f-2b5ee8ed5da6"
      },
      "outputs": [
        {
          "name": "stdout",
          "output_type": "stream",
          "text": [
            "sum= 9 \n",
            "subtraction= -1 \n",
            "multiply= 20 \n",
            "division= 0.8 \n",
            "remainder 4 \n",
            "result= 1024\n"
          ]
        }
      ],
      "source": [
        "#Ans10-\n",
        "a=4\n",
        "b=5\n",
        "sum=a+b\n",
        "sub=a-b\n",
        "multi=a*b\n",
        "div=a/b\n",
        "rem=a%b\n",
        "result=a**b\n",
        "print(\"sum=\",sum,\"\\nsubtraction=\",sub,\"\\nmultiply=\",multi,\"\\ndivision=\",div,\"\\nremainder\",rem,\"\\nresult=\",result)"
      ]
    },
    {
      "cell_type": "code",
      "execution_count": null,
      "id": "ca1757d8",
      "metadata": {
        "id": "ca1757d8"
      },
      "outputs": [],
      "source": []
    },
    {
      "cell_type": "code",
      "execution_count": null,
      "id": "2c89026c",
      "metadata": {
        "id": "2c89026c"
      },
      "outputs": [],
      "source": []
    }
  ],
  "metadata": {
    "kernelspec": {
      "display_name": "Python 3 (ipykernel)",
      "language": "python",
      "name": "python3"
    },
    "language_info": {
      "codemirror_mode": {
        "name": "ipython",
        "version": 3
      },
      "file_extension": ".py",
      "mimetype": "text/x-python",
      "name": "python",
      "nbconvert_exporter": "python",
      "pygments_lexer": "ipython3",
      "version": "3.11.5"
    },
    "colab": {
      "provenance": [],
      "include_colab_link": true
    }
  },
  "nbformat": 4,
  "nbformat_minor": 5
}